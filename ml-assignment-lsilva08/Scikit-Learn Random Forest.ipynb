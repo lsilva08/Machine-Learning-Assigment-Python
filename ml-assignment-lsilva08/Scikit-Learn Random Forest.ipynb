{
 "cells": [
  {
   "cell_type": "code",
   "execution_count": 81,
   "metadata": {},
   "outputs": [
    {
     "name": "stdout",
     "output_type": "stream",
     "text": [
      "Training model...\n",
      "Testing model...\n",
      "\n",
      " [[73  1]\n",
      " [ 4 36]]\n",
      "\n",
      "Accuracy 0.956140350877193\n",
      "Precision: 0.9567961673224831\n",
      "Recall: 0.956140350877193\n",
      "F-1 Score: 0.956140350877193\n",
      "{'fit_time': array([0.01618671, 0.01580191, 0.01638699, 0.01592588, 0.0154469 ]),\n",
      " 'score_time': array([0.00504518, 0.00399709, 0.00391483, 0.00475287, 0.00392199]),\n",
      " 'test_accuracy': array([0.9122807 , 0.94690265, 0.98230088, 0.96460177, 0.94690265]),\n",
      " 'test_prec_macro': array([0.91447368, 0.95350877, 0.98105298, 0.96695205, 0.94315895]),\n",
      " 'test_rec_macro': array([0.89583333, 0.93343394, 0.98105298, 0.95724346, 0.94315895])}\n"
     ]
    },
    {
     "data": {
      "text/plain": [
       "<sklearn.metrics._plot.confusion_matrix.ConfusionMatrixDisplay at 0x7fcae84fdc40>"
      ]
     },
     "execution_count": 81,
     "metadata": {},
     "output_type": "execute_result"
    },
    {
     "data": {
      "image/png": "[encoded data removed]",
      "text/plain": [
       "<Figure size 432x288 with 2 Axes>"
      ]
     },
     "metadata": {
      "needs_background": "light"
     },
     "output_type": "display_data"
    }
   ],
   "source": [
    "import pandas as pd\n",
    "from scipy.stats import norm \n",
    "# Validation methods\n",
    "from sklearn.model_selection import train_test_split\n",
    "from sklearn.model_selection import cross_val_score\n",
    "from sklearn.model_selection import cross_validate\n",
    "from sklearn.metrics import f1_score\n",
    "\n",
    "# Metrics\n",
    "from sklearn import metrics\n",
    "from sklearn.metrics.scorer import make_scorer  \n",
    "from sklearn.metrics import accuracy_score\n",
    "from sklearn.metrics import recall_score\n",
    "from sklearn.metrics import confusion_matrix, ConfusionMatrixDisplay\n",
    "\n",
    "# Classifiers\n",
    "from sklearn.neighbors import KNeighborsClassifier\n",
    "from sklearn.tree import DecisionTreeClassifier\n",
    "from sklearn.ensemble import RandomForestClassifier\n",
    "from sklearn.ensemble import AdaBoostClassifier\n",
    "\n",
    "# Plotting & utils\n",
    "import pprint\n",
    "import matplotlib.pyplot as plt\n",
    "import numpy as np\n",
    "\n",
    "ataCsv = pd.read_csv(\"data/breast-cancer.csv\")\n",
    "dataframe = dataCsv.fillna(dataCsv.mean()).drop(\n",
    "    [203, 433, 549]).drop(columns=['ID'])\n",
    "dataframe['Diagnosis'].replace('M', 1, inplace=True)\n",
    "dataframe['Diagnosis'].replace('B', 0, inplace=True)\n",
    "\n",
    "X = dataframe.drop('Diagnosis', axis=1)\n",
    "y = dataframe['Diagnosis']\n",
    "\n",
    "#test_df = dataframe.sample(frac=0.5)\n",
    "#test_df_pred = np.concatenate(test_df[['Diagnosis']].to_numpy(), axis=0)\n",
    "\n",
    "#training_df = dataframe.sample(frac=0.5)\n",
    "#traning_df_pred = np.concatenate(training_df[['Diagnosis']].to_numpy(), axis=0)\n",
    "\n",
    "\n",
    "model = RandomForestClassifier(n_estimators=8)\n",
    "\n",
    "X_train, X_test, y_train, y_test = train_test_split(X, y, test_size=0.2, random_state=1)\n",
    "\n",
    "print(\"Training model...\")\n",
    "model = model.fit(X_train,y_train)\n",
    "\n",
    "print(\"Testing model...\")\n",
    "y_pred = model.predict(X_test)\n",
    "\n",
    "print(\"\\n\", metrics.confusion_matrix(y_test, y_pred))\n",
    "\n",
    "print(\"\\nAccuracy\", metrics.accuracy_score(y_test, y_pred))\n",
    "print(\"Precision:\",metrics.precision_score(y_test, y_pred, average=\"weighted\"))\n",
    "print(\"Recall:\",metrics.recall_score(y_test, y_pred, average=\"weighted\"))\n",
    "print(\"F-1 Score:\",f1_score(y_test, y_pred, average='micro'))\n",
    "\n",
    "\n",
    "# 5-fold cross validation with multiple metrics\n",
    "# See, e.g., https://scikit-learn.org/stable/modules/model_evaluation.html#scoring-parameter\n",
    "scoring = {\n",
    "    'accuracy': make_scorer(accuracy_score),\n",
    "    'prec_macro': 'precision_macro', \n",
    "    'rec_macro': make_scorer(recall_score, average='macro')\n",
    "}\n",
    "\n",
    "scores_rf = cross_validate(model, X, y, cv=5, scoring=scoring)\n",
    "pprint.pprint(scores_rf)\n",
    "\n",
    "cm = confusion_matrix(y_test, y_pred, normalize='all')\n",
    "cmd = ConfusionMatrixDisplay(cm, display_labels=['Benign','Malign'])\n",
    "cmd.plot()\n"
   ]
  },
  {
   "cell_type": "code",
   "execution_count": null,
   "metadata": {},
   "outputs": [],
   "source": [
    "\n"
   ]
  },
  {
   "cell_type": "code",
   "execution_count": null,
   "metadata": {},
   "outputs": [],
   "source": [
    "\n"
   ]
  },
  {
   "cell_type": "code",
   "execution_count": null,
   "metadata": {},
   "outputs": [],
   "source": []
  },
  {
   "cell_type": "code",
   "execution_count": null,
   "metadata": {},
   "outputs": [],
   "source": []
  }
 ],
 "metadata": {
  "kernelspec": {
   "display_name": "Python 3",
   "language": "python",
   "name": "python3"
  },
  "language_info": {
   "codemirror_mode": {
    "name": "ipython",
    "version": 3
   },
   "file_extension": ".py",
   "mimetype": "text/x-python",
   "name": "python",
   "nbconvert_exporter": "python",
   "pygments_lexer": "ipython3",
   "version": "3.8.6"
  }
 },
 "nbformat": 4,
 "nbformat_minor": 4
}
