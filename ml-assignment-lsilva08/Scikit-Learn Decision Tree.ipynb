{
 "cells": [
  {
   "cell_type": "code",
   "execution_count": 83,
   "metadata": {},
   "outputs": [
    {
     "name": "stdout",
     "output_type": "stream",
     "text": [
      "Training model...\n",
      "Testing model...\n",
      "\n",
      " [[110   4]\n",
      " [  8  48]]\n",
      "\n",
      "Accuracy 0.9294117647058824\n",
      "Precision: 0.9291970243116804\n",
      "Recall: 0.9294117647058824\n",
      "F-1 Score: 0.9294117647058824\n",
      "\n",
      "               precision    recall  f1-score   support\n",
      "\n",
      "           0       0.93      0.96      0.95       114\n",
      "           1       0.92      0.86      0.89        56\n",
      "\n",
      "    accuracy                           0.93       170\n",
      "   macro avg       0.93      0.91      0.92       170\n",
      "weighted avg       0.93      0.93      0.93       170\n",
      "\n",
      "\n",
      " [0.93220339 0.92307692]\n",
      "\n",
      " [0.96491228 0.85714286]\n",
      "\n",
      " [0.94827586 0.88888889]\n"
     ]
    },
    {
     "data": {
      "text/plain": [
       "<sklearn.metrics._plot.confusion_matrix.ConfusionMatrixDisplay at 0x7fb93ceab5b0>"
      ]
     },
     "execution_count": 83,
     "metadata": {},
     "output_type": "execute_result"
    },
    {
     "data": {
      "image/png": "[encoded data removed]",
      "text/plain": [
       "<Figure size 432x288 with 2 Axes>"
      ]
     },
     "metadata": {
      "needs_background": "light"
     },
     "output_type": "display_data"
    }
   ],
   "source": [
    "import pandas as pd\n",
    "from scipy.stats import norm   \n",
    "# Validation methods\n",
    "from sklearn.model_selection import train_test_split\n",
    "from sklearn.model_selection import cross_val_score\n",
    "from sklearn.model_selection import cross_validate\n",
    "\n",
    "# Metrics\n",
    "from sklearn import metrics\n",
    "from sklearn.metrics.scorer import make_scorer\n",
    "from sklearn.metrics import accuracy_score\n",
    "from sklearn.metrics import recall_score\n",
    "from sklearn.metrics import f1_score\n",
    "from sklearn.metrics import confusion_matrix, ConfusionMatrixDisplay\n",
    "\n",
    "# Classifiers\n",
    "from sklearn.neighbors import KNeighborsClassifier\n",
    "from sklearn.tree import DecisionTreeClassifier\n",
    "from sklearn.ensemble import RandomForestClassifier\n",
    "from sklearn.ensemble import AdaBoostClassifier\n",
    "\n",
    "# Plotting & utils\n",
    "import pprint\n",
    "import matplotlib.pyplot as plt\n",
    "import numpy as np\n",
    "\n",
    "dataCsv = pd.read_csv(\"data/breast-cancer.csv\")\n",
    "dataframe = dataCsv.fillna(dataCsv.mean()).drop(\n",
    "    [203, 433, 549]).drop(columns=['ID'])\n",
    "dataframe['Diagnosis'].replace('M', 1, inplace=True)\n",
    "dataframe['Diagnosis'].replace('B', 0, inplace=True)\n",
    "\n",
    "X = dataframe.drop('Diagnosis', axis=1)\n",
    "y = dataframe['Diagnosis']\n",
    "\n",
    "X_train, X_test, y_train, y_test = train_test_split(X, y, test_size=0.3, random_state=1)\n",
    "\n",
    "model = DecisionTreeClassifier()\n",
    "\n",
    "print(\"Training model...\")\n",
    "model = model.fit(X_train,y_train)\n",
    "\n",
    "print(\"Testing model...\")\n",
    "y_pred = model.predict(X_test)\n",
    "\n",
    "print(\"\\n\", metrics.confusion_matrix(y_test, y_pred))\n",
    "\n",
    "print(\"\\nAccuracy\", metrics.accuracy_score(y_test, y_pred))\n",
    "print(\"Precision:\",metrics.precision_score(y_test, y_pred, average=\"weighted\"))\n",
    "print(\"Recall:\",metrics.recall_score(y_test, y_pred, average=\"weighted\"))\n",
    "print(\"F-1 Score:\",f1_score(y_test, y_pred, average='micro'))\n",
    "print(\"\\n\", metrics.classification_report(y_test, y_pred))\n",
    "\n",
    "print(\"\\n\", metrics.precision_score(y_test, y_pred, average=None))\n",
    "\n",
    "print(\"\\n\", metrics.recall_score(y_test, y_pred, average=None))\n",
    "\n",
    "print(\"\\n\", metrics.f1_score(y_test, y_pred, average=None))\n",
    "\n",
    "cm = confusion_matrix(y_test, y_pred, normalize='all')\n",
    "cmd = ConfusionMatrixDisplay(cm, display_labels=['Benign','Malign'])\n",
    "cmd.plot()"
   ]
  },
  {
   "cell_type": "code",
   "execution_count": null,
   "metadata": {},
   "outputs": [],
   "source": []
  },
  {
   "cell_type": "code",
   "execution_count": null,
   "metadata": {},
   "outputs": [],
   "source": []
  },
  {
   "cell_type": "code",
   "execution_count": null,
   "metadata": {},
   "outputs": [],
   "source": []
  },
  {
   "cell_type": "code",
   "execution_count": null,
   "metadata": {},
   "outputs": [],
   "source": []
  }
 ],
 "metadata": {
  "kernelspec": {
   "display_name": "Python 3",
   "language": "python",
   "name": "python3"
  },
  "language_info": {
   "codemirror_mode": {
    "name": "ipython",
    "version": 3
   },
   "file_extension": ".py",
   "mimetype": "text/x-python",
   "name": "python",
   "nbconvert_exporter": "python",
   "pygments_lexer": "ipython3",
   "version": "3.8.6"
  }
 },
 "nbformat": 4,
 "nbformat_minor": 4
}
